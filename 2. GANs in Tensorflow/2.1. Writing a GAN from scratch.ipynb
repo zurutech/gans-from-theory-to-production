{
 "cells": [
  {
   "cell_type": "markdown",
   "metadata": {},
   "source": [
    "<img src=\"../images/logo.jpg\" style=\"width:85px;height:85px;float:left\" /><h1 style=\"position:relative;float:left;display:inline\">Writing an GAN from scratch</h1>"
   ]
  },
  {
   "cell_type": "markdown",
   "metadata": {},
   "source": [
    "<a href='https://colab.research.google.com/github/zurutech/gans-from-theory-to-production/blob/master/2.%20GANs%20in%20Tensorflow/2.1.%20Writing%20a%20GAN%20from%20scratch.ipynb'>\n",
    "    <img align=\"left\" src='https://cdn-images-1.medium.com/max/800/1*ZpNn76K98snC9vDiIJ6Ldw.jpeg'></img>\n",
    "</a>"
   ]
  },
  {
   "cell_type": "code",
   "execution_count": 1,
   "metadata": {},
   "outputs": [
    {
     "name": "stdout",
     "output_type": "stream",
     "text": []
    }
   ],
   "source": [
    "! pip install --upgrade tensorflow-gpu==2.0.0beta1\n",
    "# ! pip install --upgrade tensorflow==2.0.0beta1"
   ]
  },
  {
   "cell_type": "markdown",
   "metadata": {
    "toc": true
   },
   "source": [
    "<h1>Table of Contents<span class=\"tocSkip\"></span></h1>\n",
    "<div class=\"toc\"><ul class=\"toc-item\"><li><span><a href=\"#Writing-an-GAN-from-scratch\" data-toc-modified-id=\"Writing-an-GAN-from-scratch-1\"><span class=\"toc-item-num\">1&nbsp;&nbsp;</span>Writing an GAN from scratch</a></span><ul class=\"toc-item\"><li><span><a href=\"#What-does-a-GAN-learn?\" data-toc-modified-id=\"What-does-a-GAN-learn?-1.1\"><span class=\"toc-item-num\">1.1&nbsp;&nbsp;</span>What does a GAN learn?</a></span></li><li><span><a href=\"#Input-data\" data-toc-modified-id=\"Input-data-1.2\"><span class=\"toc-item-num\">1.2&nbsp;&nbsp;</span>Input data</a></span></li><li><span><a href=\"#Generator-and-discriminator-networks:-Keras-functional-API\" data-toc-modified-id=\"Generator-and-discriminator-networks:-Keras-functional-API-1.3\"><span class=\"toc-item-num\">1.3&nbsp;&nbsp;</span>Generator and discriminator networks: Keras functional API</a></span></li><li><span><a href=\"#Define-input-and-instantiate-networks\" data-toc-modified-id=\"Define-input-and-instantiate-networks-1.4\"><span class=\"toc-item-num\">1.4&nbsp;&nbsp;</span>Define input and instantiate networks</a></span></li><li><span><a href=\"#The-loss-function-and-the-training-procedure\" data-toc-modified-id=\"The-loss-function-and-the-training-procedure-1.5\"><span class=\"toc-item-num\">1.5&nbsp;&nbsp;</span>The loss function and the training procedure</a></span><ul class=\"toc-item\"><li><span><a href=\"#Discriminator-loss-function\" data-toc-modified-id=\"Discriminator-loss-function-1.5.1\"><span class=\"toc-item-num\">1.5.1&nbsp;&nbsp;</span>Discriminator loss function</a></span></li><li><span><a href=\"#Generator-loss-function\" data-toc-modified-id=\"Generator-loss-function-1.5.2\"><span class=\"toc-item-num\">1.5.2&nbsp;&nbsp;</span>Generator loss function</a></span></li></ul></li><li><span><a href=\"#Gradient-ascent\" data-toc-modified-id=\"Gradient-ascent-1.6\"><span class=\"toc-item-num\">1.6&nbsp;&nbsp;</span>Gradient ascent</a></span><ul class=\"toc-item\"><li><span><a href=\"#Visualize-training\" data-toc-modified-id=\"Visualize-training-1.6.1\"><span class=\"toc-item-num\">1.6.1&nbsp;&nbsp;</span>Visualize training</a></span></li><li><span><a href=\"#Advantages-and-disadvantages\" data-toc-modified-id=\"Advantages-and-disadvantages-1.6.2\"><span class=\"toc-item-num\">1.6.2&nbsp;&nbsp;</span>Advantages and disadvantages</a></span></li></ul></li></ul></li><li><span><a href=\"#Bonus-exercise:-converting-it-to-a-Conditional-GAN\" data-toc-modified-id=\"Bonus-exercise:-converting-it-to-a-Conditional-GAN-2\"><span class=\"toc-item-num\">2&nbsp;&nbsp;</span>Bonus exercise: converting it to a Conditional GAN</a></span></li></ul></div>"
   ]
  },
  {
   "cell_type": "markdown",
   "metadata": {},
   "source": [
    "## Writing an GAN from scratch\n",
    "\n",
    "Previous to version 2.0, Tensorflow allowed us to only define computational graphs. We could hence describe both the generator $G$ and the discriminator $D$, just like two interacting subgraphs.\n",
    "\n",
    "Keras changes the way of reasoning, making the model definition more pythonic: before Keras we had to reason thinking about graphs and scopes; using Keras we have to think about objects and attributes.\n",
    "\n",
    "In Keras a variable lives inside the model, in pure old Tensorflow instead, the variable lives in the global graph.\n",
    "\n",
    "The Keras way of defining the Models is the new standard.\n",
    "\n",
    "### What does a GAN learn?\n",
    "\n",
    "The aim of the GAN we are going to implement is to learn a certain **data distribution** present in the training set.\n",
    "\n",
    "The following example will guide you trough the required steps to build a GAN from scratch using Tensorflow while giving you an **intuition** of what a GAN learns.\n",
    "\n",
    "### Input data\n",
    "\n",
    "In order to give a meaningful example, we're going to generate and visualize the distribution that has to be learn.\n",
    "\n",
    "$$ \\mathcal{N}(\\mu = 10, \\sigma = 0.1) $$\n",
    "\n",
    "Our **target** distribution is a Gaussian distribution centered in $10$ a with a standard deviation of $0.1$\n",
    "\n",
    "We're going to use Tensorflow itself to **sample datapoints** from this distribution in order to build our training set."
   ]
  },
  {
   "cell_type": "code",
   "execution_count": 2,
   "metadata": {},
   "outputs": [],
   "source": [
    "# Required includes to create the GAN and to visualize the data\n",
    "%matplotlib inline\n",
    "\n",
    "import os\n",
    "import matplotlib\n",
    "import matplotlib.pyplot as plt\n",
    "import tensorflow as tf\n",
    "from IPython import display\n",
    "import pylab as pl"
   ]
  },
  {
   "cell_type": "markdown",
   "metadata": {},
   "source": [
    "Tensorflow 2.0 defaults to eager mode execution, therefore we can just use Tensorflow as we are used to use other libraries such as `numpy` to generate a dataset.\n",
    "We can thus define a function that samples from our target distribution of fixed number of data points (2000).\n",
    "\n",
    "Note: **Eager execution** means that the operations are immediately run and return concrete values instead of constructing a computational graph to run later."
   ]
  },
  {
   "cell_type": "code",
   "execution_count": 3,
   "metadata": {},
   "outputs": [
    {
     "data": {
      "text/plain": [
       "(0, 60)"
      ]
     },
     "execution_count": 3,
     "metadata": {},
     "output_type": "execute_result"
    },
    {
     "data": {
      "image/png": "[encoded data removed]",
      "text/plain": [
       "<Figure size 432x288 with 1 Axes>"
      ]
     },
     "metadata": {
      "needs_background": "light"
     },
     "output_type": "display_data"
    }
   ],
   "source": [
    "def sample_dataset():\n",
    "    dataset_shape = (2000, 1)\n",
    "    return tf.random.normal(mean=10., shape=dataset_shape, stddev=0.1, dtype=tf.float32)\n",
    "\n",
    "counts, bin, ignored = plt.hist(sample_dataset().numpy(), 100)\n",
    "axes = plt.gca()\n",
    "axes.set_xlim([-1,11])\n",
    "axes.set_ylim([0, 60])"
   ]
  },
  {
   "cell_type": "markdown",
   "metadata": {},
   "source": [
    "### Generator and discriminator networks: Keras functional API\n",
    "\n",
    "The **generator** $G$ network architecture is **completely arbitrary**: practice suggests that a simple network with just 2 fully connected layers and a single linear layer at the output is enough for learning such a simple task.\n",
    "\n",
    "The **discriminator** $D$ network architecture is **completely arbitrary** too. \n",
    "\n",
    "Note: We could have apply the sigmoid but we left that task to the **BinaryCrossEntropy** Keras function. We just indicate that we input values as logits (i.e., non-normalized results).\n",
    "\n",
    "There are three ways to construct a Keras model: \n",
    "\n",
    "* Sequential \n",
    "* Functional \n",
    "* Subclassing\n",
    "\n",
    "and we use the functional API.\n",
    "In this formulation we can just use the Keras layers as functions: they accept an input and produce an output - easy.\n",
    "\n",
    "The **discriminator** $D$ network architecture is **completely arbitrary** too. \n",
    "\n",
    "Note: We could have apply the sigmoid but we left that task to the **BinaryCrossEntropy** Keras function. We just indicate that we input values as logits (i.e., non-normalized results).\n",
    "\n",
    "There are three ways to construct a Keras model: \n",
    "\n",
    "* Sequential \n",
    "* Functional \n",
    "* Subclassing\n",
    "\n",
    "and we use the functional API.\n",
    "In this formulation we can just use the Keras layers as functions: they accept an input and produce an output - easy.\n",
    "\n",
    "Indeed, for our simple model definition, a functional approach is not strictly required since a simpler interface like `Sequential` could be enough; however, we described the model using the functional approach because we found it more powerful and architecture-change ready."
   ]
  },
  {
   "cell_type": "code",
   "execution_count": 4,
   "metadata": {},
   "outputs": [],
   "source": [
    "def build_generator(input_shape):\n",
    "    \"\"\"Defines the generator keras.Model.\n",
    "    Args:\n",
    "        input_shape: the desired input shape (e.g.: (latent_space_size))\n",
    "    Returns:\n",
    "        G: The generator model\n",
    "    \"\"\"\n",
    "    inputs = tf.keras.layers.Input(input_shape)\n",
    "    net = tf.keras.layers.Dense(units=64, activation=tf.nn.elu, name=\"fc1\")(inputs)\n",
    "    net = tf.keras.layers.Dense(units=64, activation=tf.nn.elu, name=\"fc2\")(net)\n",
    "    net = tf.keras.layers.Dense(units=1, name=\"G\")(net)\n",
    "    G = tf.keras.Model(inputs=inputs, outputs=net)\n",
    "    return G\n",
    "\n",
    "def build_disciminator(input_shape):\n",
    "    \"\"\"Defines the discriminator keras.Model.\n",
    "    Args:\n",
    "        input_shape: the desired input shape (e.g.: (the generator output shape))\n",
    "    Returns:\n",
    "        D: the discriminator model\n",
    "    \"\"\"\n",
    "    inputs = tf.keras.layers.Input(input_shape)\n",
    "    net = tf.keras.layers.Dense(units=32, activation=tf.nn.elu, name=\"fc1\")(inputs)\n",
    "    net = tf.keras.layers.Dense(units=1, name=\"D\")(net)\n",
    "    D = tf.keras.Model(inputs=inputs, outputs=net)\n",
    "    return D"
   ]
  },
  {
   "cell_type": "markdown",
   "metadata": {},
   "source": [
    "### Define input and instantiate networks\n",
    "\n",
    "The two functions just defined allow us to instantiate the models."
   ]
  },
  {
   "cell_type": "code",
   "execution_count": 5,
   "metadata": {},
   "outputs": [],
   "source": [
    "# Define the real input shape, a batch of values sampled from the real data\n",
    "input_shape = (1,)\n",
    "\n",
    "# Define the discriminator model\n",
    "D = build_disciminator(input_shape)\n",
    "\n",
    "# Arbitrary set the shape of the noise prior\n",
    "latent_space_shape = (100,)\n",
    "\n",
    "# Define the input noise shape and define the generator\n",
    "G = build_generator(latent_space_shape)"
   ]
  },
  {
   "cell_type": "markdown",
   "metadata": {},
   "source": [
    "### The loss function and the training procedure\n",
    "\n",
    "As the theory describes, the value function of GAN is represented by min-max zero-sum game detailed as:\n",
    "\n",
    "$$ \\min_{G} \\max_{D} V(D, G)=\\mathbb{E}_{\\boldsymbol{x} \\sim p_{\\text {data }}(\\boldsymbol{x})}[\\log D(\\boldsymbol{x})]+\\mathbb{E}_{\\boldsymbol{z} \\sim p_{\\boldsymbol{z}}}(\\boldsymbol{z})[\\log (1-D(G(\\boldsymbol{z})))] $$\n",
    "\n",
    "The training procedure is the **alternating** execution of training steps and the loss value is calculated using cross-entropy `tf.keras.losses.BinaryCrossentropy(from_logits=True)`. \n",
    "\n",
    "In practice, the `tf.keras.losses.BinaryCrossentropy(from_logits=True)` computes the binary cross entropy between two distributions:\n",
    "\n",
    "1. the learned distribution, that assigns a probability to a certain class, that's why the function applies the **sigmoid**  $\\sigma$ function to the output neuron, in order to consider the output a probability (range [0-1])\n",
    "2. the conditional empirical distribution over class labels (a probability distribution where the probability of the current observed positive sample is 1 and is 0 for any other class)\n",
    "\n",
    "$$ \\mathcal{L}_{BCE} = - y \\log(\\hat{y}) - (1 - y)\\log(1 - \\hat{y}) $$\n",
    "\n",
    "In particular, we're going to implement the **non saturating** version of the value function.\n",
    "\n",
    "#### Discriminator loss function\n",
    "\n",
    "Given the labels for the positive and negative class to be 1 and 0 respectively, the loss becomes the sum of 2 BCE:\n",
    "\n",
    "$$ \\frac{1}{m} \\sum_{i=1}^{m}- \\log \\sigma(D(x^{(i)})) + \\frac{1}{m} \\sum_{i=1}^{m} - \\log(1 - \\sigma(D(G(z^{(i)})) $$\n",
    "\n",
    "The loss function is sum of the binary cross entropy on the class of the real samples (label 1) and the binary cross entropy on the class of the generated samples (label 0)."
   ]
  },
  {
   "cell_type": "code",
   "execution_count": 6,
   "metadata": {},
   "outputs": [],
   "source": [
    "def d_loss(real_output, generated_output):\n",
    "    \"\"\"The discriminator loss function.\"\"\"\n",
    "    bce = tf.keras.losses.BinaryCrossentropy(from_logits=True)\n",
    "    return bce(tf.ones_like(real_output), real_output) + bce(tf.zeros_like(generated_output), generated_output)"
   ]
  },
  {
   "cell_type": "markdown",
   "metadata": {},
   "source": [
    "#### Generator loss function\n",
    "$$ -\\frac{1}{m} \\sum_{i=1}^{m} \\sigma(\\log(D(G(z)))) $$\n",
    "\n",
    "The loss function is just the binary cross entropy between the log probability of the generated images and the distribution of the real images (label 1)\n",
    "\n",
    "As previously stated, we are using here the **non saturating** version instead of the theoretical version $$ -\\frac{1}{m} \\sum_{i=1}^{m} \\sigma(\\log(1 - D(G(z)))) $$"
   ]
  },
  {
   "cell_type": "code",
   "execution_count": 7,
   "metadata": {},
   "outputs": [],
   "source": [
    "def g_loss(generated_output):\n",
    "    \"\"\"The Generator loss function.\"\"\"\n",
    "    bce = tf.keras.losses.BinaryCrossentropy(from_logits=True)\n",
    "    return bce(tf.ones_like(generated_output), generated_output)"
   ]
  },
  {
   "cell_type": "markdown",
   "metadata": {},
   "source": [
    "**Non saturating** version of the minimax game lets the generator maximize the log-probability of the discriminator \n",
    "being mistaken instead of minimizing the log-probability of being correct. Hence, we approach the problem with a Gradient Ascent approach.\n",
    "\n",
    "### Gradient ascent\n",
    "\n",
    "To train 2 different networks one next to the other, we can exploit the fact that we can specify to an optimizer the \n",
    "list of variables to be trained and it will take care of updating only that variables. Using Keras, this is for free, \n",
    "since every single Model brings its own set of `trainable_variables`.\n",
    "\n",
    "The training process, thanks to the eager mode, is **exactly** the one described in the GAN paper.\n",
    "\n",
    "The `@tf.function` annotation allows to convert the most computational-intensive part of the training into its graph \n",
    "representation and accelerate, thus, the training process."
   ]
  },
  {
   "cell_type": "code",
   "execution_count": 8,
   "metadata": {},
   "outputs": [
    {
     "data": {
      "image/png": "[encoded data removed]",
      "text/plain": [
       "<Figure size 432x288 with 1 Axes>"
      ]
     },
     "metadata": {
      "needs_background": "light"
     },
     "output_type": "display_data"
    }
   ],
   "source": [
    "if not os.path.exists(\"./gif/\"):\n",
    "     os.makedirs(\"./gif/\")\n",
    "\n",
    "# Let's play the min-max game\n",
    "def train():\n",
    "    # Define the optimizers and the train operations\n",
    "    optimizer = tf.keras.optimizers.Adam(1e-5)\n",
    "    \n",
    "    @tf.function\n",
    "    def train_step():\n",
    "        with tf.GradientTape(persistent=True) as tape:\n",
    "            real_data = sample_dataset()\n",
    "            noise_vector = tf.random.normal(\n",
    "                mean=0, stddev=1, shape=(real_data.shape[0], latent_space_shape[0])\n",
    "            )\n",
    "            # Sample from the Generator\n",
    "            fake_data = G(noise_vector)\n",
    "            # Compute the D loss\n",
    "            d_fake_data = D(fake_data)\n",
    "            d_real_data = D(real_data)\n",
    "            d_loss_value = d_loss(generated_output=d_fake_data, real_output=d_real_data)\n",
    "            # Compute the G loss\n",
    "            g_loss_value = g_loss(generated_output=d_fake_data)\n",
    "        # Now that we computed the losses we can compute the gradient (using the tape)\n",
    "        # and optimize the networks\n",
    "        d_gradients = tape.gradient(d_loss_value, D.trainable_variables)\n",
    "        g_gradients = tape.gradient(g_loss_value, G.trainable_variables)\n",
    "        del tape\n",
    "        \n",
    "        # Apply gradients to variables\n",
    "        optimizer.apply_gradients(zip(d_gradients, D.trainable_variables))\n",
    "        optimizer.apply_gradients(zip(g_gradients, G.trainable_variables))\n",
    "        return real_data, fake_data, g_loss_value, d_loss_value\n",
    "    \n",
    "    # 40000 training steps with logging every 200 steps\n",
    "    fig, ax = plt.subplots()\n",
    "    for step in range(40000):\n",
    "        real_data, fake_data,g_loss_value, d_loss_value = train_step()\n",
    "        if step % 200 == 0:\n",
    "            print(\n",
    "                \"G loss: \", \n",
    "                g_loss_value.numpy(), \n",
    "                \" D loss: \", \n",
    "                d_loss_value.numpy(), \n",
    "                \" step: \", \n",
    "                step,\n",
    "            )\n",
    "\n",
    "            # Sample 5000 values from the Generator and draw the histogram\n",
    "            ax.hist(fake_data.numpy(), 100)\n",
    "            ax.hist(real_data.numpy(), 100)\n",
    "            # these are matplotlib.patch.Patch properties\n",
    "            props = dict(boxstyle='round', facecolor='wheat', alpha=0.5)\n",
    "\n",
    "            # place a text box in upper left in axes coords\n",
    "            textstr = f\"step={step}\"\n",
    "            ax.text(\n",
    "                0.05, \n",
    "                0.95, \n",
    "                textstr, \n",
    "                transform=ax.transAxes, \n",
    "                fontsize=14,\n",
    "                verticalalignment='top', \n",
    "                bbox=props,\n",
    "            )\n",
    "\n",
    "            axes = plt.gca()\n",
    "            axes.set_xlim([-1,11])\n",
    "            axes.set_ylim([0, 60])\n",
    "            display.display(pl.gcf())\n",
    "            display.clear_output(wait=True)\n",
    "            plt.savefig(\"./gif/{}.png\".format(step))\n",
    "            plt.gca().clear()\n",
    "            \n",
    "train()"
   ]
  },
  {
   "cell_type": "markdown",
   "metadata": {},
   "source": [
    "#### Visualize training\n",
    "\n",
    "Every 200 steps of train we generated and saved the histogram of 2000 values sampled from the target distribution and 2000 values sampled from the generator output.\n",
    "\n",
    "\n",
    "In order to generate a nice animation of the learning process we can just use the `imagemagick` tool to merge all the images into a pretty cool gif of the learning process.\n",
    "This gif shows you how the learning process learned to shift the initial random distribution to the correct value of $10$ and to adjust the variance in order to be close to the one of **target distribution**.\n",
    "\n",
    "\n",
    "```python\n",
    "# ! convert -delay 20 -loop 0 $(ls gif/*.png | sort -V) gif/learning_gaussian.gif\n",
    "```\n",
    "\n",
    "\n",
    "![learn](gif/learning_gaussian.gif)"
   ]
  },
  {
   "cell_type": "markdown",
   "metadata": {},
   "source": [
    "#### Advantages and disadvantages\n",
    "\n",
    "Writing a GAN from scratch using the new Tensorflow 2.0 API is extremely helpful for learning how to correctly define our own training loop, how the write a GAN, and understand the theory required to make the network learn.\n",
    "\n",
    "However, this example could become way more complex if we add:\n",
    "\n",
    "- The dataset generation: the target distribution is not generated but should be learned from a real dataset.\n",
    "- The logging: use `tf.summary.*` methods to log metrics.\n",
    "- The usage of `tf.Saver` to log the summaries and to save the trained model.\n",
    "- The data visualization in Tensorbard.\n",
    "- The export of the model with the correct input definition in order to be ready for serving.\n",
    "- ...\n",
    "\n",
    "In order to speed-up the development time, the Tensorflow devs introduced `tensorflow-datasets`<sup>[1](#1)</sup> and we at Zuru Tech introduced AshPy.\n",
    "\n",
    "The former, `tfds` is a collection of datasets ready to use as `tf.data.Dataset` objects <sup>[2](#1)</sup>, while the latter is a pure TensorFlow 2.0 library for distributed training, evaluation, model selection and fast prototyping.\n",
    "\n",
    "AshPy encapsulate the following actions:\n",
    "\n",
    "- training\n",
    "- evaluation\n",
    "- prediction\n",
    "- model selection\n",
    "- export for serving (feature inherited from the Keras models)\n",
    "\n",
    "\n",
    "In the next chapter, we'll see how to use the `AshPy` and `tfds` to train a GAN.\n",
    "\n",
    "We'll start with the definition of the data and of the discriminator.\n",
    "\n",
    "## Bonus exercise: converting it to a Conditional GAN\n",
    "\n",
    "Extending this simple GAN making it conditional can be a good test bench to check your understanding of the GAN theory explained in the first section.\n",
    "\n",
    "Remember that both $G$ and $D$ needs to be conditioned and that the train process is just the same game, played for every different condition.\n",
    "\n",
    "Copy this notebook and try to condition this GAN in order to learn 2 different normal distributions.\n",
    "\n",
    "- Condition `0`: generates $\\mathcal{N}(10, 0.1)$\n",
    "- Condition `1`: generates $\\mathcal{N}(20, 0.2)$\n",
    "\n",
    "A solution to this exercise can be found in the notebook: [BONUS - Conditional GAN from scratch](BONUS%20-%20Conditional%20GAN%20from%20scratch.ipynb).\n",
    "\n",
    "---\n",
    "<a id=\"1\">[1]</a>: https://www.tensorflow.org/datasets\n",
    "\n",
    "<a id=\"2\">[2]</a>: https://www.tensorflow.org/guide/datasets"
   ]
  }
 ],
 "metadata": {
  "kernelspec": {
   "display_name": "Python 3",
   "language": "python",
   "name": "python3"
  },
  "language_info": {
   "codemirror_mode": {
    "name": "ipython",
    "version": 3
   },
   "file_extension": ".py",
   "mimetype": "text/x-python",
   "name": "python",
   "nbconvert_exporter": "python",
   "pygments_lexer": "ipython3",
   "version": "3.7.4"
  },
  "toc": {
   "base_numbering": 1,
   "nav_menu": {},
   "number_sections": true,
   "sideBar": true,
   "skip_h1_title": true,
   "title_cell": "Table of Contents",
   "title_sidebar": "Contents",
   "toc_cell": true,
   "toc_position": {
    "height": "calc(100% - 180px)",
    "left": "10px",
    "top": "150px",
    "width": "330px"
   },
   "toc_section_display": true,
   "toc_window_display": true
  },
  "pycharm": {
   "stem_cell": {
    "cell_type": "raw",
    "source": [],
    "metadata": {
     "collapsed": false
    }
   }
  }
 },
 "nbformat": 4,
 "nbformat_minor": 2
}
