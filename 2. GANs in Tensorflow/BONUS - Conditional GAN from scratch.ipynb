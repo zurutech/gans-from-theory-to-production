{
 "cells": [
  {
   "cell_type": "markdown",
   "metadata": {},
   "source": [
    "<img src=\"../images/logo.jpg\" style=\"width:85px;height:85px;float:left\" /><h1 style=\"position:relative;float:left;display:inline\">Conditional GAN from Scratch</h1>"
   ]
  },
  {
   "cell_type": "markdown",
   "metadata": {},
   "source": [
    "<a href='https://colab.research.google.com/github/zurutech/gans-from-theory-to-production/blob/master/2.%20GANs%20in%20Tensorflow/BONUS%20-%20Conditional%20GAN%20from%20scratch.ipynb'>\n",
    "    <img align=\"left\" src='https://cdn-images-1.medium.com/max/800/1*ZpNn76K98snC9vDiIJ6Ldw.jpeg'></img>\n",
    "</a>"
   ]
  },
  {
   "cell_type": "code",
   "execution_count": 1,
   "metadata": {
    "colab": {},
    "colab_type": "code",
    "id": "BweVGsRoEj6C"
   },
   "outputs": [],
   "source": [
    "import matplotlib\n",
    "import numpy as np\n",
    "import matplotlib.pyplot as plt\n",
    "import tensorflow as tf\n",
    "from IPython import display\n",
    "import random\n",
    "import pylab as pl"
   ]
  },
  {
   "cell_type": "markdown",
   "metadata": {
    "colab_type": "text",
    "id": "f3eVGQ51Qbc6"
   },
   "source": [
    "Define a Interactive Session \n"
   ]
  },
  {
   "cell_type": "code",
   "execution_count": 2,
   "metadata": {
    "colab": {
     "base_uri": "https://localhost:8080/",
     "height": 72
    },
    "colab_type": "code",
    "id": "N_8uFW9-GNOm",
    "outputId": "100dc214-c416-44a7-c281-ced6de66d847"
   },
   "outputs": [],
   "source": [
    "sess = tf.InteractiveSession()"
   ]
  },
  {
   "cell_type": "markdown",
   "metadata": {
    "colab_type": "text",
    "id": "D2_KtTGLQUpi"
   },
   "source": [
    "Define the dataset size and the 2 random normal distribution"
   ]
  },
  {
   "cell_type": "code",
   "execution_count": 3,
   "metadata": {
    "colab": {},
    "colab_type": "code",
    "id": "uhauJdSD8g4v"
   },
   "outputs": [],
   "source": [
    "dataset_size = 2000\n",
    "\n",
    "z_1 = tf.random_normal(mean=10., shape=(), stddev=0.1, dtype=tf.float32)\n",
    "z_2 = tf.random_normal(mean=20., shape=(), stddev=0.2, dtype=tf.float32)"
   ]
  },
  {
   "cell_type": "markdown",
   "metadata": {
    "colab_type": "text",
    "id": "WU85sIbWQkKJ"
   },
   "source": [
    "Define the labels for the two distributions"
   ]
  },
  {
   "cell_type": "code",
   "execution_count": 4,
   "metadata": {
    "colab": {},
    "colab_type": "code",
    "id": "6ibGw1J8rOfv"
   },
   "outputs": [],
   "source": [
    "l = np.zeros(shape=(dataset_size, 1), dtype=np.float32)\n",
    "l2 = np.ones(shape=(dataset_size, 1), dtype=np.float32)"
   ]
  },
  {
   "cell_type": "code",
   "execution_count": 5,
   "metadata": {
    "colab": {
     "base_uri": "https://localhost:8080/",
     "height": 347
    },
    "colab_type": "code",
    "id": "uwdA3wuu8hCd",
    "outputId": "afe5124a-e003-475c-93f9-69efc3557b05"
   },
   "outputs": [
    {
     "data": {
      "image/png": "[encoded data removed]",
      "text/plain": [
       "<Figure size 432x288 with 1 Axes>"
      ]
     },
     "metadata": {
      "needs_background": "light"
     },
     "output_type": "display_data"
    }
   ],
   "source": [
    "# distribution 1\n",
    "z_samples_1 = [sess.run(z_1) for _ in range(dataset_size)]\n",
    "counts, bin, ignored = plt.hist(z_samples_1, 100)"
   ]
  },
  {
   "cell_type": "code",
   "execution_count": 6,
   "metadata": {
    "colab": {
     "base_uri": "https://localhost:8080/",
     "height": 347
    },
    "colab_type": "code",
    "id": "NyheVGxt8hMR",
    "outputId": "5f5b934f-3d34-447b-fbf1-fde13314ed8c"
   },
   "outputs": [
    {
     "data": {
      "image/png": "[encoded data removed]",
      "text/plain": [
       "<Figure size 432x288 with 1 Axes>"
      ]
     },
     "metadata": {
      "needs_background": "light"
     },
     "output_type": "display_data"
    }
   ],
   "source": [
    "# distribution 2\n",
    "z_samples_2 = [sess.run(z_2) for _ in range(dataset_size)]\n",
    "counts, bin, ignored = plt.hist(z_samples_2, 100)"
   ]
  },
  {
   "cell_type": "markdown",
   "metadata": {
    "colab_type": "text",
    "id": "GUZQsnsf-qcG"
   },
   "source": [
    "Define the generator and discriminator function "
   ]
  },
  {
   "cell_type": "markdown",
   "metadata": {
    "colab_type": "text",
    "id": "MnBhG0R6RHWb"
   },
   "source": [
    "This time the generator and the discriminator have an additional parameter..."
   ]
  },
  {
   "cell_type": "code",
   "execution_count": 7,
   "metadata": {
    "colab": {},
    "colab_type": "code",
    "id": "6zUYRJSJ8hc_"
   },
   "outputs": [],
   "source": [
    "def generator(z, label):\n",
    "    \"\"\"generator network.\n",
    "    Args:\n",
    "        z: a (None, latent_space_size) tf.float32 tensor\n",
    "        label: a (None, 1) \n",
    "    Returns:\n",
    "        G: the generator output node\n",
    "    \"\"\"\n",
    "    with tf.variable_scope(\"generator\"):\n",
    "        inputs = tf.concat(axis=1, values=[z, label])\n",
    "        fc1 = tf.layers.dense(inputs, units=64, activation=tf.nn.elu, name=\"fc1\")\n",
    "        fc2 = tf.layers.dense(fc1, units=64, activation=tf.nn.elu, name=\"fc2\")\n",
    "        G = tf.layers.dense(fc1, units=1, name=\"G\")\n",
    "    return G\n",
    "    \n",
    "def disciminator(x, label, reuse=False):\n",
    "    \"\"\"discriminator network.\n",
    "    Args:\n",
    "        inputs: a (None, 1) tf.float32 tensor\n",
    "        label: a (None, 1)\n",
    "        reuse: python boolean, if we expect to reuse (True) or declare (False) the variables\n",
    "    Returns:\n",
    "        D: the discriminator output node\n",
    "    \"\"\"\n",
    "    with tf.variable_scope(\"discriminator\", reuse=reuse):\n",
    "        inputs = tf.concat(axis=1, values=[x, label])\n",
    "        fc1 = tf.layers.dense(inputs, units=32, activation=tf.nn.elu, name=\"fc1\")\n",
    "        D = tf.layers.dense(fc1, units=1, name=\"D\")\n",
    "    return D\n",
    "\n",
    "def generator(input_shape, condition_shape):\n",
    "    \"\"\"generator network.\n",
    "    Args:\n",
    "        input_shape: the desired input shape (e.g.: (latent_space_size))\n",
    "        condition_shape: the shape of the condition \n",
    "    Returns:\n",
    "        G: The generator model\n",
    "    \"\"\"\n",
    "    inputs = tf.keras.layers.Input(input_shape)\n",
    "    condition_inputs = tf.keras.layers.Input(condition_shape)\n",
    "    net = tf.keras.layers.concatenate([inputs, condition_inputs])\n",
    "    net = tf.keras.layers.Dense(units=64, activation=tf.nn.elu, name=\"fc1\")(net)\n",
    "    net = tf.keras.layers.Dense(units=64, activation=tf.nn.elu, name=\"fc2\")(net)\n",
    "    net = tf.keras.layers.Dense(units=1, name=\"G\")(net)\n",
    "    G = tf.keras.Model(inputs=[inputs, condition_inputs], outputs=net)\n",
    "    return G\n",
    "    \n",
    "def disciminator(input_shape, condition_shape):\n",
    "    \"\"\"discriminator network.\n",
    "    Args:\n",
    "        input_shape: the desired input shape (e.g.: (latent_space_size))\n",
    "        condition_shape: the shape of the condition\n",
    "    Returns:\n",
    "        D: the discriminator model\n",
    "    \"\"\"\n",
    "    inputs = tf.keras.layers.Input(input_shape)\n",
    "    condition_inputs = tf.keras.layers.Input(condition_shape)\n",
    "    net = tf.keras.layers.concatenate([inputs, condition_inputs])\n",
    "    \n",
    "    net = tf.keras.layers.Dense(units=32, activation=tf.nn.elu, name=\"fc1\")(net)\n",
    "    net = tf.keras.layers.Dense(units=1, name=\"D\")(net)\n",
    "    D = tf.keras.Model(inputs=[inputs, condition_inputs], outputs=net)\n",
    "    return D"
   ]
  },
  {
   "cell_type": "markdown",
   "metadata": {
    "colab_type": "text",
    "id": "LzCUjbv9TALS"
   },
   "source": [
    "Define the generator and discriminator - together with the conditional inputs"
   ]
  },
  {
   "cell_type": "code",
   "execution_count": 8,
   "metadata": {
    "colab": {},
    "colab_type": "code",
    "id": "8bauheFNB1pZ"
   },
   "outputs": [],
   "source": [
    "#Define the real input(and label), a batch of values sampled from the real data (our N(10,0.1) or N(20, 0.2) distributions)\n",
    "real_input = tf.placeholder(tf.float32, shape=(None,1))\n",
    "real_label = tf.placeholder(tf.float32, shape=(None,1))\n",
    "\n",
    "# Define the discriminator network and its parameters\n",
    "D = disciminator(real_input.shape[1:], real_label.shape[1:])\n",
    "D_real = D(inputs=[real_input, real_label])\n",
    "\n",
    "# Arbitrary set the shape of the noise prior (vector of 100 values sampled from a N(0,1) distribution)\n",
    "latent_space_size = 100\n",
    "\n",
    "# Define the input noise shape and the generator\n",
    "input_noise = tf.placeholder(tf.float32, shape=(None,latent_space_size))\n",
    "G = generator(input_noise.shape[1:], real_label.shape[1:])\n",
    "\n",
    "G_z = G(inputs=[input_noise, real_label])\n",
    "D_fake = D(inputs=[G_z, real_label])"
   ]
  },
  {
   "cell_type": "markdown",
   "metadata": {
    "colab_type": "text",
    "id": "6hqb0XWrTeC1"
   },
   "source": [
    "Define the discriminator loss"
   ]
  },
  {
   "cell_type": "code",
   "execution_count": 9,
   "metadata": {
    "colab": {},
    "colab_type": "code",
    "id": "PbuzfO_DB2PK"
   },
   "outputs": [],
   "source": [
    "D_loss_real = tf.reduce_mean(\n",
    "    tf.nn.sigmoid_cross_entropy_with_logits(logits=D_real, labels=tf.ones_like(D_real))\n",
    ")\n",
    "\n",
    "D_loss_fake = tf.reduce_mean(\n",
    "    tf.nn.sigmoid_cross_entropy_with_logits(logits=D_fake, labels=tf.zeros_like(D_fake))\n",
    ")\n",
    "\n",
    "D_loss = D_loss_real + D_loss_fake"
   ]
  },
  {
   "cell_type": "markdown",
   "metadata": {
    "colab_type": "text",
    "id": "GR_-D0UiTnwz"
   },
   "source": [
    "Define the generator loss"
   ]
  },
  {
   "cell_type": "code",
   "execution_count": 10,
   "metadata": {
    "colab": {},
    "colab_type": "code",
    "id": "m6lo-XvqB2ap"
   },
   "outputs": [],
   "source": [
    "G_loss = tf.reduce_mean(\n",
    "    tf.nn.sigmoid_cross_entropy_with_logits(logits=D_fake, labels=tf.ones_like(D_fake))\n",
    ")"
   ]
  },
  {
   "cell_type": "markdown",
   "metadata": {
    "colab_type": "text",
    "id": "Y0IDF70HT_1o"
   },
   "source": [
    "Define the optimizers for the train"
   ]
  },
  {
   "cell_type": "code",
   "execution_count": 11,
   "metadata": {
    "colab": {},
    "colab_type": "code",
    "id": "Z7KAJWRhJR7U"
   },
   "outputs": [],
   "source": [
    "# Define the optimizers and the train operations\n",
    "train_D = tf.train.AdamOptimizer(1e-5).minimize(D_loss, var_list=D.trainable_variables)\n",
    "train_G = tf.train.AdamOptimizer(1e-5).minimize(G_loss, var_list=G.trainable_variables)"
   ]
  },
  {
   "cell_type": "code",
   "execution_count": 12,
   "metadata": {
    "colab": {},
    "colab_type": "code",
    "id": "DbqB8DA5gx-u"
   },
   "outputs": [],
   "source": [
    "real_data_1 = np.expand_dims(np.array(z_samples_1),1) # mu=10, mean=0.1, training_set size samples"
   ]
  },
  {
   "cell_type": "code",
   "execution_count": 13,
   "metadata": {
    "colab": {},
    "colab_type": "code",
    "id": "cQvbdI0Gh9jN"
   },
   "outputs": [],
   "source": [
    "real_data_2 = np.expand_dims(np.array(z_samples_2),1) # mu=20, mean=0.2, training_set size samples"
   ]
  },
  {
   "cell_type": "markdown",
   "metadata": {
    "colab_type": "text",
    "id": "EbF2jQ_NVPiT"
   },
   "source": [
    "Train the CGAN"
   ]
  },
  {
   "cell_type": "code",
   "execution_count": 14,
   "metadata": {
    "colab": {
     "base_uri": "https://localhost:8080/",
     "height": 195
    },
    "colab_type": "code",
    "id": "0Cy0B3lKJRlo",
    "outputId": "5d14f33a-a3b2-4a30-8d4a-5a8313273e9f"
   },
   "outputs": [
    {
     "name": "stdout",
     "output_type": "stream",
     "text": [
      "G loss:  0.5866199  D loss:  2.018352  step:  0\n",
      "G loss:  0.76831144  D loss:  1.3993706  step:  5000\n",
      "G loss:  0.7106116  D loss:  1.3792868  step:  10000\n",
      "G loss:  0.69704795  D loss:  1.3800049  step:  15000\n",
      "G loss:  0.69523656  D loss:  1.3854004  step:  20000\n",
      "G loss:  0.69420195  D loss:  1.3859173  step:  25000\n",
      "G loss:  0.6943783  D loss:  1.3861954  step:  30000\n",
      "G loss:  0.69324315  D loss:  1.3862779  step:  35000\n"
     ]
    }
   ],
   "source": [
    "#initialize the variables before running the session\n",
    "sess.run(tf.global_variables_initializer())\n",
    "\n",
    "# Let's play the min-max game\n",
    "for step in range(40000):\n",
    "    noise_vector = np.random.normal(loc=0, scale=1, size=(dataset_size, latent_space_size))\n",
    "    \n",
    "    #real_data, real_label = tf.cond(tf.equal((step % 2), 1) , lambda: f1, lambda: f2)\n",
    "     \n",
    "    # Train the disciminator\n",
    "    _, d_loss_value = sess.run([train_D, D_loss], feed_dict={real_input: real_data_1, real_label: l, input_noise: noise_vector})\n",
    "    \n",
    "    # Train the generator\n",
    "    _, g_loss_value = sess.run([train_G, G_loss], feed_dict={input_noise: noise_vector, real_label: l})\n",
    "    \n",
    "    noise_vector_1 = np.random.normal(loc=0, scale=1, size=(dataset_size, latent_space_size))\n",
    "    \n",
    "    _, d_loss_value = sess.run([train_D, D_loss], feed_dict={real_input: real_data_2, real_label: l2, input_noise: noise_vector_1})\n",
    "\n",
    "    # Train the generator\n",
    "    _, g_loss_value = sess.run([train_G, G_loss], feed_dict={input_noise: noise_vector_1, real_label: l2})\n",
    "    \n",
    "    if step % 5000 == 0:\n",
    "        print(\"G loss: \", g_loss_value, \" D loss: \", d_loss_value, \" step: \", step)        "
   ]
  },
  {
   "cell_type": "code",
   "execution_count": 15,
   "metadata": {
    "colab": {},
    "colab_type": "code",
    "id": "5EFPMzZsJeLj"
   },
   "outputs": [],
   "source": [
    "noise_vector = np.random.normal(loc=0, scale=1, size=(dataset_size, latent_space_size))"
   ]
  },
  {
   "cell_type": "code",
   "execution_count": 20,
   "metadata": {
    "colab": {
     "base_uri": "https://localhost:8080/",
     "height": 347
    },
    "colab_type": "code",
    "id": "8LLkCgqwJd8U",
    "outputId": "85d2c5fc-aa9e-4f46-e974-3d44c3262d7b"
   },
   "outputs": [
    {
     "data": {
      "image/png": "[encoded data removed]",
      "text/plain": [
       "<Figure size 432x288 with 1 Axes>"
      ]
     },
     "metadata": {
      "needs_background": "light"
     },
     "output_type": "display_data"
    }
   ],
   "source": [
    "sampled = sess.run(G_z, feed_dict={input_noise: noise_vector, real_label: l2})\n",
    "\n",
    "counts, bin, ignored = plt.hist(sampled, 100, range=(2, 25))"
   ]
  },
  {
   "cell_type": "code",
   "execution_count": 21,
   "metadata": {
    "colab": {
     "base_uri": "https://localhost:8080/",
     "height": 347
    },
    "colab_type": "code",
    "id": "qxa4yavdJdt1",
    "outputId": "7d51fc9d-3c74-4917-9e80-a20ee828f9cc"
   },
   "outputs": [
    {
     "data": {
      "image/png": "[encoded data removed]",
      "text/plain": [
       "<Figure size 432x288 with 1 Axes>"
      ]
     },
     "metadata": {
      "needs_background": "light"
     },
     "output_type": "display_data"
    }
   ],
   "source": [
    "sampled = sess.run(G_z, feed_dict={input_noise: noise_vector, real_label: l})\n",
    "\n",
    "counts, bin, ignored = plt.hist(sampled, 100, range=(2, 25))"
   ]
  }
 ],
 "metadata": {
  "colab": {
   "name": "c_gan_trento.ipynb",
   "provenance": [],
   "version": "0.3.2"
  },
  "kernelspec": {
   "display_name": "Python 3",
   "language": "python",
   "name": "python3"
  },
  "language_info": {
   "codemirror_mode": {
    "name": "ipython",
    "version": 3
   },
   "file_extension": ".py",
   "mimetype": "text/x-python",
   "name": "python",
   "nbconvert_exporter": "python",
   "pygments_lexer": "ipython3",
   "version": "3.7.1"
  },
  "toc": {
   "base_numbering": 1,
   "nav_menu": {},
   "number_sections": true,
   "sideBar": true,
   "skip_h1_title": true,
   "title_cell": "Table of Contents",
   "title_sidebar": "Contents",
   "toc_cell": false,
   "toc_position": {
    "height": "calc(100% - 180px)",
    "left": "10px",
    "top": "150px",
    "width": "246px"
   },
   "toc_section_display": true,
   "toc_window_display": true
  }
 },
 "nbformat": 4,
 "nbformat_minor": 1
}
