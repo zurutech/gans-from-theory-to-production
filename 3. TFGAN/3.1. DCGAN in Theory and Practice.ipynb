{
 "cells": [
  {
   "cell_type": "markdown",
   "metadata": {},
   "source": [
    "<img src=\"../images/logo.jpg\" style=\"width:85px;height:85px;float:left\" /><h1 style=\"position:relative;float:left;display:inline\">DCGAN in Theory and Practice</h1>"
   ]
  },
  {
   "cell_type": "markdown",
   "metadata": {},
   "source": [
    "<a href=\"https://colab.research.google.com/github/zurutech/gans-from-theory-to-production/blob/master/3.%20TFGAN/3.1.%20DCGAN%20in%20Theory%20and%20Practice.ipynb\">\n",
    "<img align=\"left\" src=\"https://cdn-images-1.medium.com/max/800/1*ZpNn76K98snC9vDiIJ6Ldw.jpeg\"></img>\n",
    "</a>"
   ]
  },
  {
   "cell_type": "markdown",
   "metadata": {
    "toc": true
   },
   "source": [
    "<h1>Table of Contents<span class=\"tocSkip\"></span></h1>\n",
    "<div class=\"toc\"><ul class=\"toc-item\"><li><span><a href=\"#Theory\" data-toc-modified-id=\"Theory-1\"><span class=\"toc-item-num\">1&nbsp;&nbsp;</span>Theory</a></span><ul class=\"toc-item\"><li><span><a href=\"#Enter-DCGAN\" data-toc-modified-id=\"Enter-DCGAN-1.1\"><span class=\"toc-item-num\">1.1&nbsp;&nbsp;</span>Enter DCGAN</a></span></li><li><span><a href=\"#Generator:-from-noise-to-insight\" data-toc-modified-id=\"Generator:-from-noise-to-insight-1.2\"><span class=\"toc-item-num\">1.2&nbsp;&nbsp;</span>Generator: from noise to insight</a></span><ul class=\"toc-item\"><li><span><a href=\"#Deconvolution\" data-toc-modified-id=\"Deconvolution-1.2.1\"><span class=\"toc-item-num\">1.2.1&nbsp;&nbsp;</span>Deconvolution</a></span></li><li><span><a href=\"#Batch-Normalization\" data-toc-modified-id=\"Batch-Normalization-1.2.2\"><span class=\"toc-item-num\">1.2.2&nbsp;&nbsp;</span>Batch Normalization</a></span></li><li><span><a href=\"#generator_fn()\" data-toc-modified-id=\"generator_fn()-1.2.3\"><span class=\"toc-item-num\">1.2.3&nbsp;&nbsp;</span>generator_fn()</a></span></li></ul></li><li><span><a href=\"#Discriminator\" data-toc-modified-id=\"Discriminator-1.3\"><span class=\"toc-item-num\">1.3&nbsp;&nbsp;</span>Discriminator</a></span><ul class=\"toc-item\"><li><span><a href=\"#discriminator_fn()\" data-toc-modified-id=\"discriminator_fn()-1.3.1\"><span class=\"toc-item-num\">1.3.1&nbsp;&nbsp;</span>discriminator_fn()</a></span></li></ul></li><li><span><a href=\"#Loss-function:-a-bridge-between-two-networks\" data-toc-modified-id=\"Loss-function:-a-bridge-between-two-networks-1.4\"><span class=\"toc-item-num\">1.4&nbsp;&nbsp;</span>Loss function: a bridge between two networks</a></span></li></ul></li><li><span><a href=\"#Practice---Introduction\" data-toc-modified-id=\"Practice---Introduction-2\"><span class=\"toc-item-num\">2&nbsp;&nbsp;</span>Practice - Introduction</a></span><ul class=\"toc-item\"><li><span><a href=\"#Input-Functions\" data-toc-modified-id=\"Input-Functions-2.1\"><span class=\"toc-item-num\">2.1&nbsp;&nbsp;</span>Input Functions</a></span><ul class=\"toc-item\"><li><span><a href=\"#Loading-Images\" data-toc-modified-id=\"Loading-Images-2.1.1\"><span class=\"toc-item-num\">2.1.1&nbsp;&nbsp;</span>Loading Images</a></span></li></ul></li><li><span><a href=\"#Hyperparameters\" data-toc-modified-id=\"Hyperparameters-2.2\"><span class=\"toc-item-num\">2.2&nbsp;&nbsp;</span>Hyperparameters</a></span></li><li><span><a href=\"#Training\" data-toc-modified-id=\"Training-2.3\"><span class=\"toc-item-num\">2.3&nbsp;&nbsp;</span>Training</a></span></li><li><span><a href=\"#TensorBoard\" data-toc-modified-id=\"TensorBoard-2.4\"><span class=\"toc-item-num\">2.4&nbsp;&nbsp;</span>TensorBoard</a></span></li></ul></li><li><span><a href=\"#Predictions\" data-toc-modified-id=\"Predictions-3\"><span class=\"toc-item-num\">3&nbsp;&nbsp;</span>Predictions</a></span><ul class=\"toc-item\"><li><span><a href=\"#predict_input_fn()\" data-toc-modified-id=\"predict_input_fn()-3.1\"><span class=\"toc-item-num\">3.1&nbsp;&nbsp;</span>predict_input_fn()</a></span></li></ul></li><li><span><a href=\"#Preparing-for-Production\" data-toc-modified-id=\"Preparing-for-Production-4\"><span class=\"toc-item-num\">4&nbsp;&nbsp;</span>Preparing for Production</a></span><ul class=\"toc-item\"><li><span><a href=\"#serving_input_receiver_fn\" data-toc-modified-id=\"serving_input_receiver_fn-4.1\"><span class=\"toc-item-num\">4.1&nbsp;&nbsp;</span>serving_input_receiver_fn</a></span></li><li><span><a href=\"#Exporting-the-model-for-production\" data-toc-modified-id=\"Exporting-the-model-for-production-4.2\"><span class=\"toc-item-num\">4.2&nbsp;&nbsp;</span>Exporting the model for production</a></span></li><li><span><a href=\"#Local-CloudML-Predictions-testing\" data-toc-modified-id=\"Local-CloudML-Predictions-testing-4.3\"><span class=\"toc-item-num\">4.3&nbsp;&nbsp;</span>Local CloudML Predictions testing</a></span><ul class=\"toc-item\"><li><span><a href=\"#Generate-the-test-noise\" data-toc-modified-id=\"Generate-the-test-noise-4.3.1\"><span class=\"toc-item-num\">4.3.1&nbsp;&nbsp;</span>Generate the test noise</a></span></li><li><span><a href=\"#Execute-the-test\" data-toc-modified-id=\"Execute-the-test-4.3.2\"><span class=\"toc-item-num\">4.3.2&nbsp;&nbsp;</span>Execute the test</a></span></li></ul></li></ul></li><li><span><a href=\"#To-the-serving\" data-toc-modified-id=\"To-the-serving-5\"><span class=\"toc-item-num\">5&nbsp;&nbsp;</span>To the serving</a></span></li><li><span><a href=\"#NOTES\" data-toc-modified-id=\"NOTES-6\"><span class=\"toc-item-num\">6&nbsp;&nbsp;</span>NOTES</a></span></li><li><span><a href=\"#Links\" data-toc-modified-id=\"Links-7\"><span class=\"toc-item-num\">7&nbsp;&nbsp;</span>Links</a></span></li></ul></div>"
   ]
  },
  {
   "cell_type": "code",
   "execution_count": null,
   "metadata": {},
   "outputs": [],
   "source": [
    "import numpy as np\n",
    "import tensorflow as tf\n",
    "\n",
    "tfgan = tf.contrib.gan"
   ]
  },
  {
   "cell_type": "markdown",
   "metadata": {},
   "source": [
    "## Theory"
   ]
  },
  {
   "cell_type": "markdown",
   "metadata": {},
   "source": [
    "### Enter DCGAN"
   ]
  },
  {
   "cell_type": "markdown",
   "metadata": {},
   "source": [
    "![DCGAN](images/dcgan.png)\n",
    "\n",
    "If you take a look at an [impressive list of GANs](), you see that DCGAN, the architecture of our choice, is just a small drop in the ocean. While there may be sexier ones, very few offers the same package of clarity, stability, performances and computational efficiency, these are the main one reason why DCGAN is considered one of the cornerstones of this field.\n",
    "\n",
    "Proposed in a 2015 paper by Alec Radford, Luke Metz, Soumith Chintala, the idea behind DCGAN is quite straightforward: combining a set of architectural constraints with the power of CNN yields us a robust, stable, and competitive model. Succeeding where many others failed, the authors present us with a simple model, asymmetrical architecture, 4 deconvolutional layers at the Generator with 4 layers of convolution at the Discriminator with the following constraints:\n",
    "\n",
    "- All pooling layers are replaced with stranded convolutions (discriminator) and fractional-stride convolutions (generator).\n",
    "- Batch-normalization used in both networks.\n",
    "- Removal of fully connected layers (except for the discriminator output)\n",
    "- `ReLU` for all Generator layers except the output, which uses `tanh`.\n",
    "- `LeakyReLU` activation in the discriminator for all layers.\n",
    "\n",
    "Although there has been very recent advancements in state of the art (i.e., CoordConv, Spectral Normalization), we felt that before venturing into the bleediest of the edges it is essential to have a firm understanding of the basic concept. We leave you (an opinionated) list of further resources you can use to get up to speed to the most exciting line of research."
   ]
  },
  {
   "cell_type": "markdown",
   "metadata": {},
   "source": [
    "### Generator: from noise to insight\n",
    "\n",
    "![DCGAN Generator](images/dcgan_generator.png)\n",
    "\n",
    "If you recall the theoretical explanation, the Generator is the network responsible for the data-generation, learning how to fool its discriminator allows it to produce realistic results \"sampled' from the learned manifold.\n",
    "\n",
    "The most common type of generator_inputs is pure and straightforward noise; however, more specialized GANs may require additional parameters. Since our full-demo uses a Deep Convolutional GAN (DCGAN), we don't need any other parameters."
   ]
  },
  {
   "cell_type": "markdown",
   "metadata": {},
   "source": [
    "#### Deconvolution\n",
    "\n",
    "> When we have neural networks generate images, we often have them build them up from low resolution, high-level \n",
    "> descriptions. This allows the network to describe the rough image and then fill in the details.\n",
    ">\n",
    "> In order to do this, we need some way to go from a lower resolution image to a higher one. We generally do this with the deconvolution operation. \n",
    "> Roughly, deconvolution layers allow the model to use every point in the small image to “paint” a square in the larger one.\n",
    "\n",
    "We have implemented the deconvolution layers following the findings explained [here]().\n",
    "\n",
    "The core idea behind the paper is that boundaries and checkerboards artifacts are not due to the adversarial training but are inherent to the deconvolution process, to tackle this issue, the suggested solution is an improved version of the upsampling operation, called the **different resize-convolution** whose core is a resize operation powered by either **nearest-neighbor interpolation** or **bilinear interpolation**. \n",
    "\n",
    "As in the paper, we are going with the ** nearest-neighbor** one."
   ]
  },
  {
   "cell_type": "code",
   "execution_count": null,
   "metadata": {},
   "outputs": [],
   "source": [
    "def deconv2d(inputs, filters, strides=(1, 1), activation=tf.nn.relu):\n",
    "    \"\"\"\\\"Deconvolution\\\" layer.\n",
    "    \n",
    "    It uses upsampling with nearest neighbor interpolation to reduce the\n",
    "    presence of checkboard artifacts.\n",
    "    \"\"\"\n",
    "    \n",
    "    input_h, input_w = inputs.shape[1].value, inputs.shape[2].value\n",
    "    layer_1 = tf.image.resize_nearest_neighbor(\n",
    "        inputs, (2 * input_h, 2 * input_w), name=\"NNUpSample2D\"\n",
    "    )\n",
    "    # Padding before convolution is used to reduce boundary artifacts\n",
    "    layer_1 = tf.pad(layer_1, [[0, 0], [2, 2], [2, 2], [0, 0]], mode=\"CONSTANT\")\n",
    "    layer_2 = tf.layers.conv2d(\n",
    "        inputs=layer_1,\n",
    "        filters=filters,\n",
    "        kernel_size=5,\n",
    "        padding=\"valid\",\n",
    "        use_bias=False,\n",
    "        activation=activation,\n",
    "        strides=strides,\n",
    "    )\n",
    "    return layer_2"
   ]
  },
  {
   "cell_type": "markdown",
   "metadata": {},
   "source": [
    "#### Batch Normalization\n",
    "\n",
    "We do not enter into the theoretical depth of `BatchNorm` as the discussion on why or whether it works it's still open and going [NOTE](). What you need to know is that TensorFlow makes it very easy to implement such an operation.\n",
    "\n",
    "```python\n",
    "tf.layers.batch_normalization(input, training=is_training)\n",
    "```\n"
   ]
  },
  {
   "cell_type": "markdown",
   "metadata": {},
   "source": [
    "#### generator_fn()"
   ]
  },
  {
   "cell_type": "code",
   "execution_count": null,
   "metadata": {},
   "outputs": [],
   "source": [
    "def generator_fn(inputs, mode):\n",
    "    \"\"\"Generator producing images from noise.\n",
    "\n",
    "        Args:\n",
    "            noise: A single Tensor representing noise.\n",
    "            mode: tf.estimator.ModeKeys\n",
    "\n",
    "        Returns:\n",
    "            A 64x64 (None, 4096) flattened tensor whose values are\n",
    "            inside the (-1, 1) range.\"\"\"\n",
    "    is_training = mode == tf.estimator.ModeKeys.TRAIN\n",
    "    linear = tf.layers.dense(inputs=inputs, units=1024 * 4 * 4, activation=tf.nn.relu)\n",
    "    net = tf.reshape(linear, (-1, 4, 4, 1024))\n",
    "    net = tf.layers.batch_normalization(net, training=is_training)\n",
    "    net = deconv2d(net, 512)\n",
    "    net = tf.layers.batch_normalization(net, training=is_training)\n",
    "    net = deconv2d(net, 256)\n",
    "    net = tf.layers.batch_normalization(net, training=is_training)\n",
    "    net = deconv2d(net, 128)\n",
    "    net = tf.layers.batch_normalization(net, training=is_training)\n",
    "    net = deconv2d(net, 64)\n",
    "    net = tf.layers.conv2d(\n",
    "        inputs=net,\n",
    "        filters=3,\n",
    "        kernel_size=5,\n",
    "        padding=\"same\",\n",
    "        data_format=\"channels_last\",\n",
    "        use_bias=False,\n",
    "        strides=(1, 1),)\n",
    "    output = tf.tanh(net)\n",
    "    return output"
   ]
  },
  {
   "cell_type": "markdown",
   "metadata": {},
   "source": [
    "### Discriminator\n",
    "\n",
    "![DCGAN Discriminator](images/dcgan_discriminator.png)\n",
    "\n",
    "As for the `input_fn()` we can reuse all the code we defined for the vanilla `Estimator` describing the discriminator network architecture."
   ]
  },
  {
   "cell_type": "markdown",
   "metadata": {},
   "source": [
    "#### discriminator_fn()"
   ]
  },
  {
   "cell_type": "code",
   "execution_count": null,
   "metadata": {},
   "outputs": [],
   "source": [
    "def custom_conv2d(inputs, filters, strides=(2,2)):\n",
    "    \"\"\"Helper layer used to instatiate `tf.layers.conv2d` with proper arguments.\"\"\"\n",
    "    layer_1 = tf.layers.conv2d(\n",
    "        inputs=inputs,\n",
    "        filters=filters,\n",
    "        kernel_size=5,\n",
    "        padding=\"same\",\n",
    "        data_format=\"channels_last\",\n",
    "        use_bias=False,\n",
    "        strides=strides,\n",
    "    )\n",
    "    layer_1 = tf.nn.leaky_relu(layer_1, alpha=0.2)\n",
    "\n",
    "    return layer_1\n"
   ]
  },
  {
   "cell_type": "code",
   "execution_count": null,
   "metadata": {},
   "outputs": [],
   "source": [
    "def discriminator_fn(inputs, conditioning, mode):\n",
    "    \"\"\"Build the Discriminator network.\n",
    "    Args:\n",
    "        features: a batch of images to classify, expected input shape (None, 64, 64 , 3)\n",
    "        conditioning: a batch of labels, it is used for conditioning in the some model (es Conditional GAN).\n",
    "            GANEstimator wants this parameters around, just define an arguments so that discriminator_fn is not broken.\n",
    "        mode: tf.estimator.ModeKey\n",
    "    \n",
    "    Returns:\n",
    "            The output (logits) of the discriminator.\n",
    "    \"\"\"\n",
    "    \n",
    "    # In every mode, define the model\n",
    "    is_training = mode == tf.estimator.ModeKeys.TRAIN\n",
    "    net = custom_conv2d(inputs, filters=64)\n",
    "    net = custom_conv2d(net, filters=128)\n",
    "    net = tf.layers.batch_normalization(net, training=is_training)\n",
    "    net = custom_conv2d(net, filters=256)\n",
    "    net = tf.layers.batch_normalization(net, training=is_training)\n",
    "    net = custom_conv2d(net, filters=512)\n",
    "    net = tf.layers.batch_normalization(net, training=is_training)\n",
    "    net = custom_conv2d(net, filters=1024)\n",
    "    net = tf.layers.batch_normalization(net, training=is_training)\n",
    "    net = tf.reshape(net, (-1, net.shape[1] * net.shape[2] * net.shape[3]))\n",
    "    output = tf.layers.dense(net, units=1)\n",
    "\n",
    "    return output"
   ]
  },
  {
   "cell_type": "markdown",
   "metadata": {},
   "source": [
    "### Loss function: a bridge between two networks"
   ]
  },
  {
   "cell_type": "markdown",
   "metadata": {},
   "source": [
    "There are a lot of loss functions usable in GANs'architectures from very domain-specific ones to ones that are perfect for general use cases. Since our goal here falls in the latter category, we use the so-called **Non-Saturating Loss** which is the non-saturating variant of the **MinMax Loss** proposed by Goodfellow in the [original paper]().\n",
    "\n",
    "As stated earlier, one of the beauties of `TFGAN` is its offerings losses ready for use, if you cannot find the loss you want, you can create your own.\n",
    "\n",
    "We use the following two losses:\n",
    "\n",
    "```python\n",
    "generator_loss_fn=tfgan.losses.minimax_generator_loss\n",
    "\n",
    "discriminator_loss_fn=tfgan.losses.minimax_discriminator_loss\n",
    "```\n",
    "\n",
    "It is that easy."
   ]
  },
  {
   "cell_type": "markdown",
   "metadata": {},
   "source": [
    "## Practice - Introduction\n",
    "\n",
    "Having seen the general structure of the TFGAN library, we dive right into the model architecture.\n",
    "\n",
    "In our showcasing of the TensorFlow API, we have built an image recognition network, GANs, however, require the training of both a Generator and a Discriminator together. While this task is either verbose and possibly performance-constrained (in the case of writing it in vanilla TensorFlow) or complicated (Estimator API) thanks to GANEstimator it becomes remarkably simple."
   ]
  },
  {
   "cell_type": "markdown",
   "metadata": {},
   "source": [
    "### Input Functions\n",
    "\n",
    "The input function for the `GANEstimator` is very much the same as the one we would define for a normal `tf.Estimator`.\n",
    "\n",
    "\n",
    ">    The function should construct and return one of the following:\n",
    ">\n",
    ">    A tf.data.Dataset object: Outputs of Dataset object must be a tuple (features, labels) with same constraints as below.\n",
    ">\n",
    ">    A tuple (features, labels): Where `features` is a Tensor or a dictionary of string feature name to Tensor and `labels` is a Tensor or a dictionary of string label name to Tensor. Model_fn consumes both features and labels. They should satisfy the expectation of model_fn from inputs.\n",
    "\n",
    "\n",
    "We write our input function following the style and structure presented available on [TensorFlow Models](#1) as an example.\n",
    "\n",
    "> ```python\n",
    "def _get_train_input_fn(batch_size, noise_dims, dataset_dir=None,\n",
    "                        num_threads=4):\n",
    "  def train_input_fn():\n",
    "    with tf.device('/cpu:0'):\n",
    "      images, _, _ = data_provider.provide_data(\n",
    "          'train', batch_size, dataset_dir, num_threads=num_threads)\n",
    "    noise = tf.random_normal([batch_size, noise_dims])\n",
    "    return noise, images\n",
    "return train_input_fn\n",
    ">```\n",
    "\n",
    "The two main ideas to take from this are: \n",
    "\n",
    "1. structure the code in the same way, the `GANEstimator` wants **function objects** as inputs thus the need to wrap them. \n",
    "2. Return **noise** first and then the **real_data** (here called `images`) and optionally **labels**.\n",
    "\n",
    "[NOTE]()"
   ]
  },
  {
   "cell_type": "markdown",
   "metadata": {},
   "source": [
    "#### Loading Images\n",
    "\n",
    "We reuse the same `input_fn()` we defined earlier with minor changes in order to make it consistent with the aforementioned code strfucture."
   ]
  },
  {
   "cell_type": "code",
   "execution_count": null,
   "metadata": {},
   "outputs": [],
   "source": [
    "def _get_train_images_input_fn(file_pattern, image_size=(64, 64, 3), shuffle=False,\n",
    "                 batch_size=32, num_epochs=None, buffer_size=4096):\n",
    "    \"\"\"get_input_fn exploits the `file_pattern` to create an input_fn that reads all the content\n",
    "    of the specified pattern, creating an object dataset.\n",
    "    \n",
    "    Args:\n",
    "        file_pattern: python string, the pattern of the file to read to generate the dataset\n",
    "        image_size: the new size of the read images\n",
    "        shuffle: True if the order of the elements in the generated dataset shold be randomized\n",
    "        batch_size: the size of the batches\n",
    "        num_epochs: the number of epochs to repeat the dataset before throwing an exeption; None is unlimited\n",
    "        buffer_size: how many images read before starting to generate output\n",
    "    Returns:\n",
    "        input_fn: the generated input_fn that returns a correctly instantiated iterator\n",
    "    \"\"\"\n",
    "    \n",
    "    def _img_string_to_tensor(image_string):\n",
    "        \"\"\"Decode an image as read from a `tf.decode_raw`, scales it between 0-1 and resize the\n",
    "        image as specified in the parent method.\n",
    "        Args:\n",
    "            image_string: the raw image tensor\n",
    "        Returns:\n",
    "            image_resize: image in [0,1] correctly resized\n",
    "        \"\"\"\n",
    "        \n",
    "        nonlocal image_size\n",
    "        \n",
    "        image_decoded = tf.image.decode_jpeg(image_string, channels=image_size[-1])\n",
    "        # The conversion to float automatically scales the values in [0., 1.]\n",
    "        image_decoded_as_float = tf.image.convert_image_dtype(image_decoded, dtype=tf.float32)\n",
    "        image_decoded = (image_decoded_as_float - 0.5) * 2\n",
    "        image_resized = tf.image.resize_images(image_decoded, size=image_size[:2])\n",
    "        \n",
    "\n",
    "        return image_resized\n",
    "\n",
    "    def _path_to_img(path):\n",
    "        \"\"\"Given the path of an image, returns the pair (image, label)\n",
    "        where image is the corretly resized image, and label is the label associated with it.\n",
    "        Args:\n",
    "            path: the path of the image to read\n",
    "        Returns:\n",
    "            (image_resized, label): the image, label pair associated the path\n",
    "        \"\"\"\n",
    "        \n",
    "        # Get the parent folder of this file to get its class\n",
    "        # Associate the label 0 to dogs and 1 to cats\n",
    "        label = tf.cond(\n",
    "                    tf.equal(tf.string_split([path], delimiter='/').values[-2], \"dogs\"),\n",
    "                    lambda: 0, lambda: 1)\n",
    "\n",
    "        image_string = tf.read_file(path) # read image and process it\n",
    "        image_resized = _img_string_to_tensor(image_string)\n",
    "\n",
    "        return image_resized, label\n",
    "    \n",
    "    def _input_fn():\n",
    "        \"\"\"The input function that builds the `tf.data.Dataset` object and instantiate\n",
    "        the iterator correctly ready to be use.\n",
    "        Returns:\n",
    "            the iterator associated to the built Dataset object.\n",
    "        \"\"\"\n",
    "        \n",
    "        # Use the static method `list_files` that builds a dataset of all\n",
    "        # files matching this pattern.\n",
    "        dataset_path = tf.data.Dataset.list_files(file_pattern)\n",
    "\n",
    "        if shuffle:\n",
    "            dataset_path = dataset_path.apply(tf.contrib.data.shuffle_and_repeat(buffer_size, num_epochs))\n",
    "        else:\n",
    "            dataset_path = dataset_path.repeat(num_epochs)\n",
    "\n",
    "        # The map function maps the path to the pair (image, label)\n",
    "        dataset = dataset_path.map(_path_to_img)\n",
    "        dataset = dataset.apply(tf.contrib.data.batch_and_drop_remainder(batch_size))\n",
    "        dataset = dataset.prefetch(buffer_size)\n",
    "        \n",
    "        iterator = dataset.make_one_shot_iterator()\n",
    "        return iterator.get_next()\n",
    "\n",
    "    return _input_fn()[0]"
   ]
  },
  {
   "cell_type": "markdown",
   "metadata": {},
   "source": [
    "We define the `_get_train_input_fn()` which return a Python Callable that we instantiate and pass to `GANEstimator.train()` later on."
   ]
  },
  {
   "cell_type": "code",
   "execution_count": null,
   "metadata": {},
   "outputs": [],
   "source": [
    "def _get_train_input_fn(file_pattern, batch_size, num_epochs, noise_dims=100, **kwargs):\n",
    "    def train_input_fn():\n",
    "        real_data = _get_train_images_input_fn(\n",
    "                 file_pattern,\n",
    "                 batch_size=batch_size, \n",
    "                 num_epochs=num_epochs)\n",
    "        noise = tf.random_normal([batch_size, noise_dims], name=\"train_noise\")\n",
    "        real_data.set_shape((batch_size,) + tuple(real_data.shape[1:]))\n",
    "        print(noise, real_data)\n",
    "        return noise, real_data\n",
    "    return train_input_fn"
   ]
  },
  {
   "cell_type": "markdown",
   "metadata": {},
   "source": [
    "### Hyperparameters"
   ]
  },
  {
   "cell_type": "markdown",
   "metadata": {},
   "source": [
    "Personally I like to keep my hyperparameters in a **TOML** file, loading them before the train.\n",
    "\n",
    "Here we simply load them in a `Dict` and use `**` to unpack them."
   ]
  },
  {
   "cell_type": "code",
   "execution_count": null,
   "metadata": {},
   "outputs": [],
   "source": [
    "def load_hyperparameters():\n",
    "    hp = {\n",
    "        \"model_dir\": \"../logs/\",\n",
    "        \"file_pattern\": \"../assets/celeba/*.jpg\",\n",
    "        \"batch_size\": 128,\n",
    "        \"num_epochs\":1,\n",
    "        \"noise_dims\": 100\n",
    "    }\n",
    "    return hp"
   ]
  },
  {
   "cell_type": "markdown",
   "metadata": {},
   "source": [
    "### Training"
   ]
  },
  {
   "cell_type": "code",
   "execution_count": null,
   "metadata": {},
   "outputs": [],
   "source": [
    "def dcgan():\n",
    "    \n",
    "    # Set the seed at a Graph Level so that we geet consistency between runs.\n",
    "    tf.set_random_seed(42)\n",
    "    \n",
    "    # Hyperparameters\n",
    "    hyperparameters = load_hyperparameters()\n",
    "    \n",
    "    # Run Configuration (it has other arguments)\n",
    "    run_config = tf.estimator.RunConfig(\n",
    "        model_dir=hyperparameters.get(\"model_dir\"), save_summary_steps=50, save_checkpoints_steps=500)\n",
    "    \n",
    "    # Instatiate the GANEstimator object\n",
    "    gan_estimator = tfgan.estimator.GANEstimator(\n",
    "        config=run_config,\n",
    "        generator_fn=generator_fn,\n",
    "        discriminator_fn=discriminator_fn,\n",
    "        generator_loss_fn=tfgan.losses.modified_generator_loss,\n",
    "        discriminator_loss_fn=tfgan.losses.modified_discriminator_loss,\n",
    "        generator_optimizer=tf.train.AdamOptimizer(0.0002, 0.5),\n",
    "        discriminator_optimizer=tf.train.AdamOptimizer(0.0002, 0.5),\n",
    "        add_summaries=tfgan.estimator.SummaryType.IMAGES\n",
    "    )\n",
    "    \n",
    "    # Instatiate the train_input_fn\n",
    "    # The model will train until it exhausts the Dataset which is repeated EPOCH times\n",
    "    train_input_fn = _get_train_input_fn(**hyperparameters)\n",
    "    trained_model = gan_estimator.train(train_input_fn, max_steps=None)\n",
    "    return trained_model"
   ]
  },
  {
   "cell_type": "markdown",
   "metadata": {},
   "source": [
    "### TensorBoard\n",
    "\n",
    "In order to track our training we need to launch a **TensorBoard** session pointing to the folder (`model_dir`) containing the logs generated by our training.\n",
    "\n",
    "```bash\n",
    "tensorboard --logdir=PATH_TO_YOUR_MODEL_DIR\n",
    "```"
   ]
  },
  {
   "cell_type": "code",
   "execution_count": null,
   "metadata": {
    "scrolled": true
   },
   "outputs": [],
   "source": [
    "trained_model = dcgan()"
   ]
  },
  {
   "cell_type": "markdown",
   "metadata": {},
   "source": [
    "## Predictions\n",
    "\n",
    "We train Machine Learning models because we want them to perform some specific task since we now have our GAN trained, we can finally use it to \"predict\" AKA generate a new image from a noise vector.\n",
    "\n",
    "Once again, TFGAN makes it as easy as invoking the `predict()`  method of our `GANEstimator` while passing to it a `predict_input_fn` as a required argument. \n",
    "\n",
    "### predict_input_fn()\n",
    "\n",
    "As previously mentioned while theoretically identical, `train_input_fn` and `predict_nput_fn()` should be implemented differently.  The first one is a simple `tf.random_normal()` node, the second should make proper use of the `tf.Dataset` API."
   ]
  },
  {
   "cell_type": "code",
   "execution_count": null,
   "metadata": {},
   "outputs": [],
   "source": [
    "def _predict_input_fn(batch_size, noise_dims=100, **kwargs):\n",
    "    \n",
    "    def predict_input_fn():\n",
    "        noise_gen = np.array([np.float32(np.random.normal(size=[1, noise_dims])) for i in range(batch_size)])\n",
    "        dataset = tf.data.Dataset.from_tensor_slices(noise_gen)\n",
    "        dataset = dataset.batch(batch_size)\n",
    "        iterator = dataset.make_one_shot_iterator()\n",
    "        return iterator.get_next()\n",
    "        \n",
    "    return predict_input_fn"
   ]
  },
  {
   "cell_type": "code",
   "execution_count": null,
   "metadata": {
    "scrolled": true
   },
   "outputs": [],
   "source": [
    "predictions_batch = 3\n",
    "predict_input_fn = _predict_input_fn(batch_size=predictions_batch)\n",
    "predictions = trained_model.predict(predict_input_fn)\n",
    "[next(predictions) for _ in range(predictions_batch)]"
   ]
  },
  {
   "cell_type": "markdown",
   "metadata": {},
   "source": [
    "## Preparing for Production\n",
    "\n",
    "Now that we have our model trained and ready we are just a couple steps away from being able to put our model into production.\n",
    "\n",
    "### serving_input_receiver_fn\n",
    "\n",
    "To serve a model in production, we first need to equip it with an interface which will receive data from our requests, such interface is specified by the aptly named `serving_input_receiver_fn`. Of the three input functions, this is the trickiest one since it has its peculiar API.\n",
    "\n",
    "This functions requires its output to be a either a `ServingInputReceiver` or a `TensorServingInputReceiver` object; the documentation on their use is clear:\n",
    "\n",
    "> The normal `ServingInputReceiver` always returns a feature dict, even if it contains only one entry, and so can be used only with models that accept such a dict. \n",
    ">For models that accept only a single raw feature, the `serving_input_receiver_fn` provided to `Estimator.export_savedmodel()` should return this `TensorServingInputReceiver`.\n",
    "\n",
    "Since our model needs only a noise vector to get going, we can use `TensorServingInputReceiver`.\n",
    "\n",
    ">The expected return values are: \n",
    "> - **features**: A single `Tensor` or `SparseTensor`, representing the feature to be passed to the model. \n",
    "> - **receiver_tensors**: A Tensor, SparseTensor, or dict of string to Tensor or SparseTensor, specifying input nodes where this receiver expects to be fed by default. Typically, this is a single placeholder expecting serialized `tf.Example` protos. \n",
    "> - **receiver_tensors_alternatives**: a dict of string to additional groups of receiver tensors, each of which may be a `Tensor`, `SparseTensor`, or dict of string to `Tensor` or `SparseTensor`. These named receiver tensor alternatives generate additional serving signatures, which may be used to feed inputs at different points within the input receiver subgraph. A typical usage is to allow feeding raw feature Tensors downstream of the `tf.parse_example()` op. Defaults to None."
   ]
  },
  {
   "cell_type": "code",
   "execution_count": null,
   "metadata": {},
   "outputs": [],
   "source": [
    "def _serving_input_receiver_fn():\n",
    "    \"\"\"Instantiate a placeholder for our serving input data.\n",
    "\n",
    "    Call the custom function `serving_input_fn()`, built following\n",
    "    TensorFlow Estimator API convention, initializing the placeholder for\n",
    "    the noise we will feed the model during its serving.\n",
    "\n",
    "    The Serving Input function has two key elements:\n",
    "\n",
    "        - the data-processing step, where we concretely prepare data to be\n",
    "        fed to the:\n",
    "        - Placeholder, it is the node where the input are fed.\n",
    "\n",
    "    The things to notice is that while using `ServingInputReceiver`\n",
    "    your data processing step should have at its core the parsing of the\n",
    "    tf.Example received.\n",
    "\n",
    "    With `TensorServingInputReceiver` our data won't really be passed by the\n",
    "    request, instead it will have to be generated ''model-side'' inside the\n",
    "    `_serving_input_receiver_fn` itself.\n",
    "\n",
    "    Returns:\n",
    "        tf.estimator.export.TensorServingInputReceiver passing the\n",
    "        placeholder for the noise to it.\n",
    "    \"\"\"\n",
    "\n",
    "    receiver_tensors = tf.placeholder(shape=[None, 100], dtype=tf.float32, name=\"serving_noise\")\n",
    "    return tf.estimator.export.TensorServingInputReceiver(receiver_tensors, receiver_tensors)"
   ]
  },
  {
   "cell_type": "markdown",
   "metadata": {},
   "source": [
    "### Exporting the model for production\n",
    "\n",
    "Exporting the model is as easy as calling `GANEstimator.export_savedmodel()` which the same as the normal `Estimator`.\n",
    "\n",
    "> This method builds a new graph by first calling the serving_input_receiver_fn to obtain feature Tensors, and then calling this Estimator's model_fn to generate the model graph based on those features. It restores the given checkpoint (or, lacking that, the most recent checkpoint) into this graph in a fresh session. Finally it creates a timestamped export directory below the given export_dir_base, and writes a SavedModel into it containing a single MetaGraphDef saved from this session.\n",
    "\n",
    "We have to specify an output folder and the `serving_input_receiver_fn`."
   ]
  },
  {
   "cell_type": "code",
   "execution_count": null,
   "metadata": {},
   "outputs": [],
   "source": [
    "export_dir_base = \"../assets/exported_models\"\n",
    "trained_model.export_savedmodel(\n",
    "    export_dir_base, _serving_input_receiver_fn)"
   ]
  },
  {
   "cell_type": "markdown",
   "metadata": {},
   "source": [
    "### Local CloudML Predictions testing\n",
    "\n",
    "Before going over the required steps for model serving, we want to test it locally to make sure that the exported models will behave correctly once loaded onto CloudML Engine."
   ]
  },
  {
   "cell_type": "markdown",
   "metadata": {},
   "source": [
    "#### Generate the test noise\n",
    "\n",
    "Google Cloud often uses Newline Delimited JSON  when working with JSON-formatted data; we can use the `jsonlines` Python library assure our compliance with the standard."
   ]
  },
  {
   "cell_type": "code",
   "execution_count": null,
   "metadata": {},
   "outputs": [],
   "source": [
    "import jsonlines"
   ]
  },
  {
   "cell_type": "code",
   "execution_count": null,
   "metadata": {},
   "outputs": [],
   "source": [
    "BATCH_SIZE = 2\n",
    "NOISE_DIMS = 100\n",
    "\n",
    "with jsonlines.open(\"../assets/test_noise.ndjson\", \"w\") as writer:\n",
    "    noise = np.random.normal(size=(BATCH_SIZE, NOISE_DIMS)).tolist()\n",
    "    noised_dict = [{\"input\": n} for n in noise]\n",
    "    writer.write_all(noised_dict)"
   ]
  },
  {
   "cell_type": "markdown",
   "metadata": {},
   "source": [
    "#### Execute the test"
   ]
  },
  {
   "cell_type": "code",
   "execution_count": null,
   "metadata": {},
   "outputs": [],
   "source": [
    "%%bash\n",
    "\n",
    "MODEL_DIR=\"../assets/exported_models\"\n",
    "MODEL_ID=\"1535124551\"\n",
    "JSON_INSTANCES=\"../assets/test_noise.ndjson\"\n",
    "\n",
    "rm ~/google-cloud-sdk/lib/googlecloudsdk/command_lib/ml_engine/*.pyc\n",
    "\n",
    "gcloud ml-engine local predict \\\n",
    "    --model-dir=$MODEL_DIR/$MODEL_ID \\\n",
    "    --json-instances=$JSON_INSTANCES"
   ]
  },
  {
   "cell_type": "markdown",
   "metadata": {},
   "source": [
    "## To the serving\n",
    "\n",
    "Now that we have the exported model we are ready to finally serve our model."
   ]
  },
  {
   "cell_type": "markdown",
   "metadata": {},
   "source": [
    "## NOTES\n",
    "\n",
    "[1]: [The GAN Landscape: Losses, Architectures, Regularization, and Normalization](https://arxiv.org/abs/1807.04720v1), which in our opinion is one of the most thorough scientific studies on GANs out there, suggests that `Spectral Normalization` is the real big deal and that `BatchNorm` actually hurt performance if applied to the Discriminator. We still decided to go with the classic formulation of DCGAN as not to overtax you with theoretical discussions. We leave the implementation of the `Spectral Normalization`(and SNGAN) to you as an exercise. On the theoretical treating of `BatchNorm` we recommend a back to back reading of [Batch Normalization: Accelerating Deep Network Training by Reducing Internal Covariate Shift](https://arxiv.org/abs/1502.03167), [Understanding Batch Normalization](https://arxiv.org/abs/1806.02375v1), [How Does Batch Normalization Help Optimization? (No, It Is Not About Internal Covariate Shift)](https://arxiv.org/abs/1805.11604) \n",
    "\n",
    "[2]: While often you want to work with **features (and labels)** fetched from a `tf.Dataset`, the **noise** should always be instantiated using a simple TensorFlow node. Trying to create a noise-containing `tf.Dataset` for the `train_input_fn` is not worth the effort. NOTE: that as things are different for the [predict_input_fn](##predict_input_fn()). "
   ]
  },
  {
   "cell_type": "markdown",
   "metadata": {},
   "source": [
    "## Links\n",
    "\n",
    "Generative Adversarial Networks : https://arxiv.org/abs/1406.2661\n",
    "\n",
    "really-awesome-gan : https://github.com/nightrome/really-awesome-gan\n",
    "\n",
    "DCGAN : https://arxiv.org/abs/1511.06434\n",
    "\n",
    "Deconvolution and Checkerboard Artifacts : https://distill.pub/2016/deconv-checkerboard/\n",
    "\n",
    "TFGAN MNIST GAN Example : https://github.com/tensorflow/models/tree/master/research/gan/mnist_estimator\n",
    "\n",
    "Estimator API : https://www.tensorflow.org/api_docs/python/tf/estimator/Estimator\n",
    "\n",
    "export_savedmodel : https://www.tensorflow.org/api_docs/python/tf/estimator/Estimator#export_savedmodel"
   ]
  }
 ],
 "metadata": {
  "kernelspec": {
   "display_name": "Python 3",
   "language": "python",
   "name": "python3"
  },
  "language_info": {
   "codemirror_mode": {
    "name": "ipython",
    "version": 3
   },
   "file_extension": ".py",
   "mimetype": "text/x-python",
   "name": "python",
   "nbconvert_exporter": "python",
   "pygments_lexer": "ipython3",
   "version": "3.7.1"
  },
  "toc": {
   "base_numbering": "1",
   "nav_menu": {},
   "number_sections": true,
   "sideBar": true,
   "skip_h1_title": true,
   "title_cell": "Table of Contents",
   "title_sidebar": "Contents",
   "toc_cell": true,
   "toc_position": {},
   "toc_section_display": true,
   "toc_window_display": false
  }
 },
 "nbformat": 4,
 "nbformat_minor": 2
}
